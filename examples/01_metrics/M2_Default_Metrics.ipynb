{
 "cells": [
  {
   "cell_type": "markdown",
   "metadata": {},
   "source": [
    "# Metrics Included with Warp Factory\n",
    "\n",
    "Now that you understand the basics of metrics, here are some existing metrics to explore.\n",
    "\n",
    "This notebook demonstrates how to create and visualize various spacetime metrics available in the WarpFactory Python package."
   ]
  },
  {
   "cell_type": "code",
   "execution_count": null,
   "metadata": {},
   "outputs": [],
   "source": [
    "import numpy as np\n",
    "import matplotlib.pyplot as plt\n",
    "from warpfactory.metrics.minkowski import get_minkowski_metric\n",
    "from warpfactory.metrics.schwarzschild import get_schwarzschild_metric\n",
    "from warpfactory.metrics.alcubierre import get_alcubierre_metric\n",
    "from warpfactory.metrics.van_den_broeck import get_van_den_broeck_metric\n",
    "from warpfactory.metrics.lentz import get_lentz_metric\n",
    "from warpfactory.metrics.modified_time import get_modified_time_metric\n",
    "from warpfactory.metrics.warp_shell import get_warp_shell_comoving_metric\n",
    "from warpfactory.visualizer import plot_tensor\n",
    "from warpfactory.units.constants import c, G\n",
    "\n",
    "# Set matplotlib to display plots inline\n",
    "%matplotlib inline\n",
    "plt.rcParams['figure.figsize'] = (10, 8)"
   ]
  },
  {
   "cell_type": "markdown",
   "metadata": {},
   "source": [
    "## Standard Metrics"
   ]
  },
  {
   "cell_type": "markdown",
   "metadata": {},
   "source": [
    "### Minkowski\n",
    "\n",
    "The Minkowski metric represents flat spacetime with no curvature - this is the spacetime of special relativity."
   ]
  },
  {
   "cell_type": "code",
   "execution_count": null,
   "metadata": {},
   "outputs": [],
   "source": [
    "# Minkowski metric parameters\n",
    "grid_size = [1, 10, 10, 10]\n",
    "grid_scaling = [1, 1, 1, 1]\n",
    "\n",
    "# Create the metric\n",
    "metric = get_minkowski_metric(grid_size, grid_scaling)\n",
    "\n",
    "print(f\"Metric name: {metric.name}\")\n",
    "print(f\"Metric type: {metric.type}\")\n",
    "print(f\"Index type: {metric.index}\")\n",
    "print(f\"Coordinate system: {metric.coords}\")\n",
    "print(f\"Grid size: {metric.params['gridSize']}\")\n",
    "\n",
    "# Plotting\n",
    "figures = plot_tensor(metric, alpha=0.2, sliced_planes=[1, 4])\n",
    "plt.show()"
   ]
  },
  {
   "cell_type": "markdown",
   "metadata": {},
   "source": [
    "### Schwarzschild\n",
    "\n",
    "The Schwarzschild metric describes the spacetime geometry around a non-rotating, spherically symmetric massive object (e.g., a black hole)."
   ]
  },
  {
   "cell_type": "code",
   "execution_count": null,
   "metadata": {},
   "outputs": [],
   "source": [
    "# Schwarzschild metric parameters\n",
    "grid_size = [1, 20, 20, 20]\n",
    "world_center = [(gs + 1) / 2 for gs in grid_size]  # Center of the grid\n",
    "rs = 0.01  # Schwarzschild radius\n",
    "\n",
    "# Create the metric\n",
    "metric = get_schwarzschild_metric(grid_size, world_center, rs)\n",
    "\n",
    "print(f\"Metric name: {metric.name}\")\n",
    "print(f\"Schwarzschild radius: {rs}\")\n",
    "print(f\"World center: {world_center}\")\n",
    "\n",
    "# Plotting\n",
    "# Use z-slice at world center for better visualization\n",
    "z_center = round(world_center[3])\n",
    "figures = plot_tensor(metric, alpha=0.2, sliced_planes=[1, 4], slice_locations=[1, z_center])\n",
    "plt.show()"
   ]
  },
  {
   "cell_type": "markdown",
   "metadata": {},
   "source": [
    "## Warp Metrics - Time Dependent\n",
    "\n",
    "These warp metrics move through space over time. For a proper evaluation of the stress-energy tensor in Warp Factory, a minimum of 5 time steps must be instantiated. Comoving metrics in the next section are preferred for most analyses since only 1 time slice is needed."
   ]
  },
  {
   "cell_type": "markdown",
   "metadata": {},
   "source": [
    "### Alcubierre - Time Dependent\n",
    "\n",
    "The Alcubierre warp drive metric creates a \"warp bubble\" that contracts space in front of it and expands space behind it, allowing faster-than-light travel without violating special relativity."
   ]
  },
  {
   "cell_type": "code",
   "execution_count": null,
   "metadata": {},
   "outputs": [],
   "source": [
    "# Alcubierre metric parameters\n",
    "grid_size = [5, 20, 20, 20]  # Note the time size of 5\n",
    "world_center = [(gs + 1) / 2 for gs in grid_size]\n",
    "velocity = 0.5  # velocity in factors of c\n",
    "R = 5  # bubble radius\n",
    "sigma = 0.5  # thickness parameter\n",
    "\n",
    "# Create the metric\n",
    "metric = get_alcubierre_metric(grid_size, world_center, velocity, R, sigma)\n",
    "\n",
    "print(f\"Metric name: {metric.name}\")\n",
    "print(f\"Velocity: {velocity}c\")\n",
    "print(f\"Bubble radius: {R}\")\n",
    "print(f\"Thickness parameter: {sigma}\")\n",
    "\n",
    "# Plotting - use middle time slice\n",
    "z_center = round(world_center[3])\n",
    "figures = plot_tensor(metric, alpha=0.2, sliced_planes=[1, 4], slice_locations=[3, z_center])\n",
    "plt.show()"
   ]
  },
  {
   "cell_type": "markdown",
   "metadata": {},
   "source": [
    "### Van Den Broeck - Time Dependent\n",
    "\n",
    "The Van Den Broeck metric modifies the Alcubierre metric by introducing a spatial expansion factor that creates a larger interior volume while maintaining a small exterior profile."
   ]
  },
  {
   "cell_type": "code",
   "execution_count": null,
   "metadata": {},
   "outputs": [],
   "source": [
    "# Van Den Broeck metric parameters\n",
    "grid_size = [5, 20, 20, 20]  # Note the time size of 5\n",
    "world_center = [(gs + 1) / 2 for gs in grid_size]\n",
    "velocity = 0.1  # velocity in factors of c\n",
    "R1 = 2  # spatial expansion radius\n",
    "sigma1 = 1  # spatial expansion width\n",
    "R2 = 5  # shift vector radius\n",
    "sigma2 = 1  # shift vector width\n",
    "alpha = 0.5  # spatial expansion factor\n",
    "\n",
    "# Create the metric\n",
    "metric = get_van_den_broeck_metric(grid_size, world_center, velocity, R1, sigma1, R2, sigma2, alpha)\n",
    "\n",
    "print(f\"Metric name: {metric.name}\")\n",
    "print(f\"Velocity: {velocity}c\")\n",
    "print(f\"Spatial expansion factor: {alpha}\")\n",
    "\n",
    "# Plotting - use middle time slice\n",
    "z_center = round(world_center[3])\n",
    "figures = plot_tensor(metric, alpha=0.2, sliced_planes=[1, 4], slice_locations=[3, z_center])\n",
    "plt.show()"
   ]
  },
  {
   "cell_type": "markdown",
   "metadata": {},
   "source": [
    "### Lentz - Time Dependent\n",
    "\n",
    "The Lentz metric is a soliton-based solution that creates a warp bubble using a discontinuous shift vector, creating a simpler but less smooth warp bubble compared to Alcubierre."
   ]
  },
  {
   "cell_type": "code",
   "execution_count": null,
   "metadata": {},
   "outputs": [],
   "source": [
    "# Lentz metric parameters\n",
    "grid_size = [5, 30, 30, 2]  # Note the time size of 5, trailing size must be at least 2\n",
    "world_center = [(gs + 1) / 2 for gs in grid_size]\n",
    "velocity = 0.1  # velocity in factors of c\n",
    "\n",
    "# Create the metric\n",
    "metric = get_lentz_metric(grid_size, world_center, velocity)\n",
    "\n",
    "print(f\"Metric name: {metric.name}\")\n",
    "print(f\"Velocity: {velocity}c\")\n",
    "print(f\"Scale: {metric.params['scale']}\")\n",
    "\n",
    "# Plotting - use middle time slice, z=0 plane\n",
    "figures = plot_tensor(metric, alpha=0.2, sliced_planes=[1, 4], slice_locations=[3, 1])\n",
    "plt.show()"
   ]
  },
  {
   "cell_type": "markdown",
   "metadata": {},
   "source": [
    "## Warp Metrics - Comoving\n",
    "\n",
    "These warp metrics do not move through space, hence the name 'comoving'. For a proper evaluation of the stress-energy tensor in Warp Factory, only 1 time slice is needed since the metric is time-invariant."
   ]
  },
  {
   "cell_type": "markdown",
   "metadata": {},
   "source": [
    "### Alcubierre - Comoving\n",
    "\n",
    "This is the comoving version of the Alcubierre metric, where the warp bubble is stationary in the coordinate frame."
   ]
  },
  {
   "cell_type": "code",
   "execution_count": null,
   "metadata": {},
   "outputs": [],
   "source": [
    "# Alcubierre comoving metric parameters\n",
    "grid_size = [1, 20, 20, 20]  # Only 1 time slice needed\n",
    "world_center = [(gs + 1) / 2 for gs in grid_size]\n",
    "velocity = 0.5  # velocity in factors of c\n",
    "R = 5  # bubble radius\n",
    "sigma = 0.5  # thickness parameter\n",
    "\n",
    "# Create the metric\n",
    "metric = get_alcubierre_metric(grid_size, world_center, velocity, R, sigma)\n",
    "\n",
    "print(f\"Metric name: {metric.name}\")\n",
    "print(f\"Velocity: {velocity}c\")\n",
    "print(f\"Bubble radius: {R}\")\n",
    "\n",
    "# Plotting\n",
    "z_center = round(world_center[3])\n",
    "figures = plot_tensor(metric, alpha=0.2, sliced_planes=[1, 4], slice_locations=[1, z_center])\n",
    "plt.show()"
   ]
  },
  {
   "cell_type": "markdown",
   "metadata": {},
   "source": [
    "### Van Den Broeck - Comoving\n",
    "\n",
    "This is the comoving version of the Van Den Broeck metric."
   ]
  },
  {
   "cell_type": "code",
   "execution_count": null,
   "metadata": {},
   "outputs": [],
   "source": [
    "# Van Den Broeck comoving metric parameters\n",
    "grid_size = [1, 20, 20, 20]  # Only 1 time slice needed\n",
    "world_center = [(gs + 1) / 2 for gs in grid_size]\n",
    "velocity = 0.1  # velocity in factors of c\n",
    "R1 = 2  # spatial expansion radius\n",
    "sigma1 = 1  # spatial expansion width\n",
    "R2 = 5  # shift vector radius\n",
    "sigma2 = 1  # shift vector width\n",
    "alpha = 0.5  # spatial expansion factor\n",
    "\n",
    "# Create the metric\n",
    "metric = get_van_den_broeck_metric(grid_size, world_center, velocity, R1, sigma1, R2, sigma2, alpha)\n",
    "\n",
    "print(f\"Metric name: {metric.name}\")\n",
    "print(f\"Velocity: {velocity}c\")\n",
    "print(f\"Spatial expansion factor: {alpha}\")\n",
    "\n",
    "# Plotting\n",
    "z_center = round(world_center[3])\n",
    "figures = plot_tensor(metric, alpha=0.2, sliced_planes=[1, 4], slice_locations=[1, z_center])\n",
    "plt.show()"
   ]
  },
  {
   "cell_type": "markdown",
   "metadata": {},
   "source": [
    "### Lentz - Comoving\n",
    "\n",
    "This is the comoving version of the Lentz metric."
   ]
  },
  {
   "cell_type": "code",
   "execution_count": null,
   "metadata": {},
   "outputs": [],
   "source": [
    "# Lentz comoving metric parameters\n",
    "grid_size = [1, 30, 30, 2]  # Trailing size must be at least 2\n",
    "world_center = [(gs + 1) / 2 for gs in grid_size]\n",
    "velocity = 0.1  # velocity in factors of c\n",
    "\n",
    "# Create the metric\n",
    "metric = get_lentz_metric(grid_size, world_center, velocity)\n",
    "\n",
    "print(f\"Metric name: {metric.name}\")\n",
    "print(f\"Velocity: {velocity}c\")\n",
    "print(f\"Scale: {metric.params['scale']}\")\n",
    "\n",
    "# Plotting - z=0 plane\n",
    "figures = plot_tensor(metric, alpha=0.2, sliced_planes=[1, 4], slice_locations=[1, 1])\n",
    "plt.show()"
   ]
  },
  {
   "cell_type": "markdown",
   "metadata": {},
   "source": [
    "### Modified Time - Comoving\n",
    "\n",
    "The Modified Time metric extends the Alcubierre metric by modifying both the shift vector and the lapse function, introducing time dilation effects within the warp bubble."
   ]
  },
  {
   "cell_type": "code",
   "execution_count": null,
   "metadata": {},
   "outputs": [],
   "source": [
    "# Modified Time metric parameters\n",
    "grid_size = [1, 20, 20, 20]\n",
    "world_center = [(gs + 1) / 2 for gs in grid_size]\n",
    "velocity = 0.5  # velocity in factors of c\n",
    "R = 5  # bubble radius\n",
    "sigma = 0.5  # thickness parameter\n",
    "A = 2.0  # lapse rate modification parameter\n",
    "\n",
    "# Create the metric\n",
    "metric = get_modified_time_metric(grid_size, world_center, velocity, R, sigma, A)\n",
    "\n",
    "print(f\"Metric name: {metric.name}\")\n",
    "print(f\"Velocity: {velocity}c\")\n",
    "print(f\"Bubble radius: {R}\")\n",
    "print(f\"Lapse modification parameter A: {A}\")\n",
    "\n",
    "# Plotting\n",
    "z_center = round(world_center[3])\n",
    "figures = plot_tensor(metric, alpha=0.2, sliced_planes=[1, 4], slice_locations=[1, z_center])\n",
    "plt.show()"
   ]
  },
  {
   "cell_type": "markdown",
   "metadata": {},
   "source": [
    "### Warp Shell - Comoving\n",
    "\n",
    "The Warp Shell metric describes a spherical shell of matter that can create a warp effect for objects within the shell. This is based on the constant velocity warp shell solution."
   ]
  },
  {
   "cell_type": "code",
   "execution_count": null,
   "metadata": {},
   "outputs": [],
   "source": [
    "# Warp Shell metric parameters\n",
    "space_scale = 2\n",
    "time_scale = 1\n",
    "centered = 1\n",
    "cartoon_thickness = 5\n",
    "\n",
    "R1 = 10  # inner radius\n",
    "Rbuff = 0  # buffer distance\n",
    "R2 = 20  # outer radius\n",
    "\n",
    "if centered == 1:\n",
    "    grid_size = [1, int(2 * (R2 + 10) * space_scale), int(2 * (R2 + 10) * space_scale), cartoon_thickness]\n",
    "else:\n",
    "    grid_size = [1, int((R2 + 10) * space_scale), int((R2 + 10) * space_scale), cartoon_thickness]\n",
    "\n",
    "factor = 1/3\n",
    "m = R2 / (2 * G()) * c()**2 * factor  # total mass\n",
    "\n",
    "v_warp = 0.02  # warp velocity in factors of c\n",
    "\n",
    "sigma = 0  # sharpness parameter\n",
    "do_warp = 1  # enable warp effect\n",
    "\n",
    "grid_scaling = [1/(time_scale * space_scale * (v_warp * c() + 1)), 1/space_scale, 1/space_scale, 1/space_scale]\n",
    "grid_scaling[0] = 1/(1000 * c())\n",
    "\n",
    "if centered == 1:\n",
    "    world_center = [\n",
    "        (cartoon_thickness + 1) / 2 * grid_scaling[0],\n",
    "        (2 * (R2 + 10) * space_scale + 1) / 2 * grid_scaling[1],\n",
    "        (2 * (R2 + 10) * space_scale + 1) / 2 * grid_scaling[2],\n",
    "        (cartoon_thickness + 1) / 2 * grid_scaling[3]\n",
    "    ]\n",
    "else:\n",
    "    world_center = [(cartoon_thickness + 1) / 2 * grid_scaling[0], 5, 5, (cartoon_thickness + 1) / 2 * grid_scaling[3]]\n",
    "\n",
    "smooth_factor = 4000\n",
    "\n",
    "# Create the metric\n",
    "print(\"Creating Warp Shell metric (this may take a minute)...\")\n",
    "metric = get_warp_shell_comoving_metric(\n",
    "    grid_size, world_center, m, R1, R2, Rbuff, sigma, smooth_factor, v_warp, do_warp, grid_scaling\n",
    ")\n",
    "\n",
    "print(f\"Metric name: {metric.name}\")\n",
    "print(f\"Inner radius R1: {R1}\")\n",
    "print(f\"Outer radius R2: {R2}\")\n",
    "print(f\"Total mass: {m:.2e}\")\n",
    "print(f\"Warp velocity: {v_warp}c\")\n",
    "\n",
    "# Plotting - Select unique components\n",
    "# Note: The warp shell has many components, so we'll plot a subset\n",
    "z_offset = 0\n",
    "z_center = round((grid_size[3] + 1) / 2 + z_offset)\n",
    "\n",
    "# Create custom plot for warp shell components\n",
    "component_indices = [(0, 0), (0, 1), (0, 2), (1, 1), (1, 2), (2, 2)]\n",
    "fig, axes = plt.subplots(2, 3, figsize=(15, 10))\n",
    "axes = axes.flatten()\n",
    "\n",
    "for idx, (i, j) in enumerate(component_indices):\n",
    "    # Extract 2D slice (skip buffer zones: 3:-2)\n",
    "    data = metric.tensor[(i, j)][0, 3:-2, 3:-2, z_center].T\n",
    "    \n",
    "    im = axes[idx].imshow(data, origin='lower', aspect='auto', cmap='RdBu_r')\n",
    "    axes[idx].set_title(f'$g_{{{i+1}{j+1}}}$', fontsize=14)\n",
    "    axes[idx].set_xlabel('X [m]', fontsize=10)\n",
    "    axes[idx].set_ylabel('Y [m]', fontsize=10)\n",
    "    plt.colorbar(im, ax=axes[idx])\n",
    "\n",
    "plt.tight_layout()\n",
    "plt.show()\n",
    "\n",
    "print(\"\\nWarp Shell metric created successfully!\")"
   ]
  },
  {
   "cell_type": "markdown",
   "metadata": {},
   "source": [
    "## Summary\n",
    "\n",
    "This notebook demonstrated how to create and visualize the following metrics available in WarpFactory:\n",
    "\n",
    "**Standard Metrics:**\n",
    "- Minkowski (flat spacetime)\n",
    "- Schwarzschild (black hole)\n",
    "\n",
    "**Time-Dependent Warp Metrics:**\n",
    "- Alcubierre\n",
    "- Van Den Broeck\n",
    "- Lentz\n",
    "\n",
    "**Comoving Warp Metrics:**\n",
    "- Alcubierre (comoving)\n",
    "- Van Den Broeck (comoving)\n",
    "- Lentz (comoving)\n",
    "- Modified Time\n",
    "- Warp Shell\n",
    "\n",
    "Each metric has its own unique properties and parameters that control the geometry of spacetime. The comoving versions are generally preferred for analysis as they require only a single time slice."
   ]
  }
 ],
 "metadata": {
  "kernelspec": {
   "display_name": "Python 3",
   "language": "python",
   "name": "python3"
  },
  "language_info": {
   "codemirror_mode": {
    "name": "ipython",
    "version": 3
   },
   "file_extension": ".py",
   "mimetype": "text/x-python",
   "name": "python",
   "nbconvert_exporter": "python",
   "pygments_lexer": "ipython3",
   "version": "3.8.0"
  }
 },
 "nbformat": 4,
 "nbformat_minor": 4
}
