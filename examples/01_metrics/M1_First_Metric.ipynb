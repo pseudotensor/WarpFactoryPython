{
 "cells": [
  {
   "cell_type": "markdown",
   "metadata": {},
   "source": [
    "# Welcome to Warp Factory!\n",
    "\n",
    "In this example, we'll learn the basics of metrics."
   ]
  },
  {
   "cell_type": "markdown",
   "metadata": {},
   "source": [
    "## First metric\n",
    "\n",
    "Let's create our first metric using WarpFactory. We'll start with the simplest spacetime metric - the Minkowski metric, which represents flat spacetime with no curvature."
   ]
  },
  {
   "cell_type": "code",
   "execution_count": null,
   "metadata": {},
   "outputs": [],
   "source": [
    "# Import required modules\n",
    "from warpfactory.metrics.minkowski import get_minkowski_metric\n",
    "import numpy as np\n",
    "import matplotlib.pyplot as plt\n",
    "from mpl_toolkits.mplot3d import Axes3D"
   ]
  },
  {
   "cell_type": "code",
   "execution_count": null,
   "metadata": {},
   "outputs": [],
   "source": [
    "# Define the spacetime grid\n",
    "# gridSize = [time, x, y, z]\n",
    "grid_size = [1, 10, 10, 10]\n",
    "grid_scaling = [1, 1, 1, 1]\n",
    "\n",
    "# Create the Minkowski metric\n",
    "MyFirstMetric = get_minkowski_metric(grid_size, grid_scaling)\n",
    "\n",
    "print(f\"Created metric: {MyFirstMetric}\")"
   ]
  },
  {
   "cell_type": "markdown",
   "metadata": {},
   "source": [
    "### Check out the properties of the metric\n",
    "\n",
    "The metric object is a `Tensor` class with several properties that describe the spacetime metric."
   ]
  },
  {
   "cell_type": "code",
   "execution_count": null,
   "metadata": {},
   "outputs": [],
   "source": [
    "# In Python, we can access properties directly as attributes\n",
    "# Let's see what properties our metric has\n",
    "print(\"Available properties:\")\n",
    "print(f\"  type: {MyFirstMetric.type}\")\n",
    "print(f\"  name: {MyFirstMetric.name}\")\n",
    "print(f\"  index: {MyFirstMetric.index}\")\n",
    "print(f\"  coords: {MyFirstMetric.coords}\")\n",
    "print(f\"  scaling: {MyFirstMetric.scaling}\")\n",
    "print(f\"  date: {MyFirstMetric.date}\")\n",
    "print(f\"  shape: {MyFirstMetric.shape}\")\n",
    "print(f\"  params: {MyFirstMetric.params}\")"
   ]
  },
  {
   "cell_type": "markdown",
   "metadata": {},
   "source": [
    "## MyFirstMetric.type\n",
    "\n",
    "This one is simple. The `.type` property of this tensor is \"metric\". This identifies this tensor object as a metric."
   ]
  },
  {
   "cell_type": "code",
   "execution_count": null,
   "metadata": {},
   "outputs": [],
   "source": [
    "print(f\"Tensor type: {MyFirstMetric.type}\")"
   ]
  },
  {
   "cell_type": "markdown",
   "metadata": {},
   "source": [
    "## MyFirstMetric.index\n",
    "\n",
    "This property specifies what form the tensor is in. A metric tensor index can either be \"covariant\" ($g_{\\mu\\nu}$) or \"contravariant\" ($g^{\\mu\\nu}$)."
   ]
  },
  {
   "cell_type": "code",
   "execution_count": null,
   "metadata": {},
   "outputs": [],
   "source": [
    "print(f\"Index type: {MyFirstMetric.index}\")"
   ]
  },
  {
   "cell_type": "markdown",
   "metadata": {},
   "source": [
    "## MyFirstMetric.tensor\n",
    "\n",
    "The tensor contains the values for metric at each point in space and time for each tensor component. In Python, the tensor object is a dictionary with (i, j) tuple keys. Each entry contains a numpy array of values for each point in spacetime. The shape of this array is equal to the `grid_size` of your spacetime.\n",
    "\n",
    "Unlike MATLAB which uses 1-based indexing, Python uses 0-based indexing. So the components are:\n",
    "- (0, 0): $g_{tt}$ - time-time component\n",
    "- (1, 1): $g_{xx}$ - x-x component  \n",
    "- (2, 2): $g_{yy}$ - y-y component\n",
    "- (3, 3): $g_{zz}$ - z-z component\n",
    "- (i, j): $g_{ij}$ - off-diagonal components"
   ]
  },
  {
   "cell_type": "code",
   "execution_count": null,
   "metadata": {},
   "outputs": [],
   "source": [
    "# Access tensor components using tuple indexing\n",
    "print(\"Tensor component shapes:\")\n",
    "for i in range(4):\n",
    "    for j in range(4):\n",
    "        print(f\"  g[{i},{j}] shape: {MyFirstMetric[(i, j)].shape}\")\n",
    "\n",
    "# Let's look at some specific components\n",
    "print(\"\\nDiagonal components at origin:\")\n",
    "print(f\"  g_00 (time-time): {MyFirstMetric[(0, 0)][0, 0, 0, 0]}\")\n",
    "print(f\"  g_11 (x-x): {MyFirstMetric[(1, 1)][0, 0, 0, 0]}\")\n",
    "print(f\"  g_22 (y-y): {MyFirstMetric[(2, 2)][0, 0, 0, 0]}\")\n",
    "print(f\"  g_33 (z-z): {MyFirstMetric[(3, 3)][0, 0, 0, 0]}\")\n",
    "\n",
    "print(\"\\nOff-diagonal component at origin:\")\n",
    "print(f\"  g_01 (time-x): {MyFirstMetric[(0, 1)][0, 0, 0, 0]}\")"
   ]
  },
  {
   "cell_type": "markdown",
   "metadata": {},
   "source": [
    "### Visualizing the metric components\n",
    "\n",
    "Let's take a look at the tensor values for a slice of the space. We'll visualize each component of the metric tensor as a 2D surface."
   ]
  },
  {
   "cell_type": "code",
   "execution_count": null,
   "metadata": {},
   "outputs": [],
   "source": [
    "# Create a 4x4 grid of subplots to show all metric components\n",
    "fig, axes = plt.subplots(4, 4, figsize=(16, 16))\n",
    "fig.suptitle('Minkowski Metric Components (2D slice at t=0, z=0)', fontsize=16)\n",
    "\n",
    "# Plot each component\n",
    "for i in range(4):\n",
    "    for j in range(4):\n",
    "        ax = axes[i, j]\n",
    "        \n",
    "        # Extract a 2D slice: t=0, x-y plane, z=0 (middle)\n",
    "        # The indexing is [t, x, y, z]\n",
    "        slice_data = MyFirstMetric[(i, j)][0, :, :, 0]\n",
    "        \n",
    "        # Plot as a heatmap\n",
    "        im = ax.imshow(slice_data, cmap='RdBu_r', origin='lower')\n",
    "        ax.set_title(f'$g_{{{i}{j}}}$')\n",
    "        ax.set_xlabel('x')\n",
    "        ax.set_ylabel('y')\n",
    "        plt.colorbar(im, ax=ax)\n",
    "\n",
    "plt.tight_layout()\n",
    "plt.show()\n",
    "\n",
    "print(\"\\nJust as expected for Minkowski space!\")\n",
    "print(\"g_μν = η_μν for all points in the slice\")\n",
    "print(\"where η_μν is the Minkowski metric: diag(-1, 1, 1, 1)\")"
   ]
  },
  {
   "cell_type": "markdown",
   "metadata": {},
   "source": [
    "### Alternative 3D Visualization\n",
    "\n",
    "We can also create 3D surface plots to better visualize the metric components:"
   ]
  },
  {
   "cell_type": "code",
   "execution_count": null,
   "metadata": {},
   "outputs": [],
   "source": [
    "# Create 3D surface plots for diagonal components\n",
    "fig = plt.figure(figsize=(16, 12))\n",
    "fig.suptitle('Minkowski Metric Diagonal Components (3D view)', fontsize=16)\n",
    "\n",
    "# Create coordinate grids for plotting\n",
    "x = np.arange(grid_size[1])\n",
    "y = np.arange(grid_size[2])\n",
    "X, Y = np.meshgrid(x, y)\n",
    "\n",
    "# Plot diagonal components\n",
    "for idx, i in enumerate([0, 1, 2, 3]):\n",
    "    ax = fig.add_subplot(2, 2, idx+1, projection='3d')\n",
    "    \n",
    "    # Extract slice at t=0, z=0\n",
    "    Z = MyFirstMetric[(i, i)][0, :, :, 0]\n",
    "    \n",
    "    # Plot surface\n",
    "    surf = ax.plot_surface(X, Y, Z, cmap='viridis', edgecolor='none', alpha=0.8)\n",
    "    \n",
    "    component_names = ['g_tt', 'g_xx', 'g_yy', 'g_zz']\n",
    "    ax.set_title(f'${component_names[idx]}$')\n",
    "    ax.set_xlabel('x')\n",
    "    ax.set_ylabel('y')\n",
    "    ax.set_zlabel('value')\n",
    "    fig.colorbar(surf, ax=ax, shrink=0.5)\n",
    "\n",
    "plt.tight_layout()\n",
    "plt.show()"
   ]
  },
  {
   "cell_type": "markdown",
   "metadata": {},
   "source": [
    "## Other Properties\n",
    "\n",
    "The metric object contains several other useful properties:\n",
    "\n",
    "- `.name` - Your metric has a name!\n",
    "- `.date` - Your metric stores a date when it is made.\n",
    "- `.scaling` - Your metric has scaling information about the coordinate grid step size in time and space. We'll get into this more in later examples.\n",
    "- `.coords` - The coordinate system associated with the metric (e.g., 'cartesian')\n",
    "- `.params` - Additional parameters used to create the metric"
   ]
  },
  {
   "cell_type": "code",
   "execution_count": null,
   "metadata": {},
   "outputs": [],
   "source": [
    "print(f\"Metric name: {MyFirstMetric.name}\")\n",
    "print(f\"Creation date: {MyFirstMetric.date}\")\n",
    "print(f\"Grid scaling: {MyFirstMetric.scaling}\")\n",
    "print(f\"Coordinate system: {MyFirstMetric.coords}\")\n",
    "print(f\"Parameters: {MyFirstMetric.params}\")"
   ]
  },
  {
   "cell_type": "markdown",
   "metadata": {},
   "source": [
    "## Summary\n",
    "\n",
    "In this notebook, we learned:\n",
    "\n",
    "1. How to create a metric using `get_minkowski_metric()`\n",
    "2. The structure of a `Tensor` object with its properties:\n",
    "   - `type`: identifies the tensor as a \"metric\"\n",
    "   - `index`: specifies covariant vs contravariant form\n",
    "   - `tensor`: dictionary containing the 4x4 metric components as numpy arrays\n",
    "   - `name`, `date`, `scaling`, `coords`, `params`: metadata about the metric\n",
    "3. How to access tensor components using tuple indexing: `metric[(i, j)]`\n",
    "4. How to visualize metric components using matplotlib\n",
    "5. That the Minkowski metric represents flat spacetime with the signature (-1, 1, 1, 1)\n",
    "\n",
    "In the next examples, we'll explore more complex metrics like the Alcubierre warp drive metric!"
   ]
  }
 ],
 "metadata": {
  "kernelspec": {
   "display_name": "Python 3",
   "language": "python",
   "name": "python3"
  },
  "language_info": {
   "codemirror_mode": {
    "name": "ipython",
    "version": 3
   },
   "file_extension": ".py",
   "mimetype": "text/x-python",
   "name": "python",
   "nbconvert_exporter": "python",
   "pygments_lexer": "ipython3",
   "version": "3.8.0"
  }
 },
 "nbformat": 4,
 "nbformat_minor": 4
}
