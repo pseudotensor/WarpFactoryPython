{
 "cells": [
  {
   "cell_type": "markdown",
   "metadata": {},
   "source": [
    "# The Order of Finite Differencing\n",
    "\n",
    "This notebook demonstrates the difference between 2nd and 4th order finite differencing methods when computing the stress-energy tensor. The `diff_order` parameter in `get_energy_tensor()` allows you to control the accuracy of the numerical derivatives.\n",
    "\n",
    "## Background\n",
    "\n",
    "When computing derivatives numerically, higher-order methods provide more accurate results but require more grid points. For energy tensor calculations:\n",
    "- **4th order** (default): More accurate, requires minimum 5 grid points in each direction\n",
    "- **2nd order**: Less accurate, requires minimum 3 grid points, useful for checking finite differencing errors with sharp metric transitions"
   ]
  },
  {
   "cell_type": "code",
   "execution_count": null,
   "metadata": {},
   "outputs": [],
   "source": [
    "import numpy as np\n",
    "import matplotlib.pyplot as plt\n",
    "from warpfactory.metrics.alcubierre import get_alcubierre_metric\n",
    "from warpfactory.solver.energy import get_energy_tensor"
   ]
  },
  {
   "cell_type": "markdown",
   "metadata": {},
   "source": [
    "## Create Alcubierre Metric\n",
    "\n",
    "We'll create an Alcubierre warp drive metric to compare the two finite differencing methods."
   ]
  },
  {
   "cell_type": "code",
   "execution_count": null,
   "metadata": {},
   "outputs": [],
   "source": [
    "# Set up grid parameters\n",
    "grid_size = [1, 20, 20, 20]\n",
    "world_center = [(grid_size[i] + 1) / 2 for i in range(4)]\n",
    "velocity = 0.5\n",
    "R = 5\n",
    "sigma = 0.5\n",
    "\n",
    "# Create the Alcubierre metric\n",
    "metric = get_alcubierre_metric(\n",
    "    grid_size=grid_size,\n",
    "    world_center=world_center,\n",
    "    velocity=velocity,\n",
    "    radius=R,\n",
    "    sigma=sigma\n",
    ")\n",
    "\n",
    "print(f\"Metric: {metric.name}\")\n",
    "print(f\"Grid size: {grid_size}\")\n",
    "print(f\"Velocity: {velocity}c\")\n",
    "print(f\"Radius: {R}\")\n",
    "print(f\"Sigma: {sigma}\")"
   ]
  },
  {
   "cell_type": "markdown",
   "metadata": {},
   "source": [
    "## Compute Energy Tensors with Different Orders\n",
    "\n",
    "Now we'll compute the energy tensor using both 4th order (default) and 2nd order finite differencing."
   ]
  },
  {
   "cell_type": "code",
   "execution_count": null,
   "metadata": {},
   "outputs": [],
   "source": [
    "# Compute energy tensor using fourth order (default)\n",
    "energy_tensor_fourth = get_energy_tensor(metric, diff_order=4)\n",
    "\n",
    "# Compute energy tensor using second order\n",
    "energy_tensor_second = get_energy_tensor(metric, diff_order=2)\n",
    "\n",
    "print(\"Fourth order energy tensor computed\")\n",
    "print(\"Second order energy tensor computed\")"
   ]
  },
  {
   "cell_type": "markdown",
   "metadata": {},
   "source": [
    "## Visualize Fourth Order Results\n",
    "\n",
    "Let's visualize all components of the energy tensor computed with 4th order finite differencing."
   ]
  },
  {
   "cell_type": "code",
   "execution_count": null,
   "metadata": {},
   "outputs": [],
   "source": [
    "# Plotting Energy Tensor - Fourth Order\n",
    "fig, axes = plt.subplots(4, 4, figsize=(16, 16))\n",
    "fig.suptitle(f'{metric.name} Energy Tensor - Fourth Order', fontsize=16)\n",
    "\n",
    "t_slice = 0\n",
    "z_slice = int(world_center[3])\n",
    "\n",
    "for i in range(4):\n",
    "    for j in range(4):\n",
    "        ax = axes[i, j]\n",
    "        data = energy_tensor_fourth.tensor[(i, j)][t_slice, :, :, z_slice]\n",
    "        \n",
    "        im = ax.imshow(data.T, origin='lower', cmap='RdBu_r', aspect='auto')\n",
    "        ax.set_title(f'T[{i},{j}]')\n",
    "        ax.set_xlabel('x')\n",
    "        ax.set_ylabel('y')\n",
    "        plt.colorbar(im, ax=ax)\n",
    "\n",
    "plt.tight_layout()\n",
    "plt.show()"
   ]
  },
  {
   "cell_type": "markdown",
   "metadata": {},
   "source": [
    "## Visualize Second Order Results\n",
    "\n",
    "Now let's visualize the same components computed with 2nd order finite differencing."
   ]
  },
  {
   "cell_type": "code",
   "execution_count": null,
   "metadata": {},
   "outputs": [],
   "source": [
    "# Plotting Energy Tensor - Second Order\n",
    "fig, axes = plt.subplots(4, 4, figsize=(16, 16))\n",
    "fig.suptitle(f'{metric.name} Energy Tensor - Second Order', fontsize=16)\n",
    "\n",
    "for i in range(4):\n",
    "    for j in range(4):\n",
    "        ax = axes[i, j]\n",
    "        data = energy_tensor_second.tensor[(i, j)][t_slice, :, :, z_slice]\n",
    "        \n",
    "        im = ax.imshow(data.T, origin='lower', cmap='RdBu_r', aspect='auto')\n",
    "        ax.set_title(f'T[{i},{j}]')\n",
    "        ax.set_xlabel('x')\n",
    "        ax.set_ylabel('y')\n",
    "        plt.colorbar(im, ax=ax)\n",
    "\n",
    "plt.tight_layout()\n",
    "plt.show()"
   ]
  },
  {
   "cell_type": "markdown",
   "metadata": {},
   "source": [
    "## Compare the Difference\n",
    "\n",
    "To better understand the impact of the finite differencing order, let's compute and visualize the difference between the two methods."
   ]
  },
  {
   "cell_type": "code",
   "execution_count": null,
   "metadata": {},
   "outputs": [],
   "source": [
    "# Plotting Difference Between Fourth and Second Order\n",
    "fig, axes = plt.subplots(4, 4, figsize=(16, 16))\n",
    "fig.suptitle('Difference: Fourth Order - Second Order', fontsize=16)\n",
    "\n",
    "for i in range(4):\n",
    "    for j in range(4):\n",
    "        ax = axes[i, j]\n",
    "        data_fourth = energy_tensor_fourth.tensor[(i, j)][t_slice, :, :, z_slice]\n",
    "        data_second = energy_tensor_second.tensor[(i, j)][t_slice, :, :, z_slice]\n",
    "        difference = data_fourth - data_second\n",
    "        \n",
    "        im = ax.imshow(difference.T, origin='lower', cmap='RdBu_r', aspect='auto')\n",
    "        ax.set_title(f'ΔT[{i},{j}]')\n",
    "        ax.set_xlabel('x')\n",
    "        ax.set_ylabel('y')\n",
    "        plt.colorbar(im, ax=ax)\n",
    "\n",
    "plt.tight_layout()\n",
    "plt.show()"
   ]
  },
  {
   "cell_type": "markdown",
   "metadata": {},
   "source": [
    "## Quantitative Comparison\n",
    "\n",
    "Let's examine the numerical differences between the two methods."
   ]
  },
  {
   "cell_type": "code",
   "execution_count": null,
   "metadata": {},
   "outputs": [],
   "source": [
    "# Calculate statistics for each component\n",
    "print(\"Comparison of Fourth vs Second Order Finite Differencing\")\n",
    "print(\"=\" * 60)\n",
    "print(f\"{'Component':<12} {'Max Diff':<15} {'RMS Diff':<15}\")\n",
    "print(\"-\" * 60)\n",
    "\n",
    "for i in range(4):\n",
    "    for j in range(4):\n",
    "        data_fourth = energy_tensor_fourth.tensor[(i, j)][t_slice, :, :, z_slice]\n",
    "        data_second = energy_tensor_second.tensor[(i, j)][t_slice, :, :, z_slice]\n",
    "        difference = data_fourth - data_second\n",
    "        \n",
    "        max_diff = np.max(np.abs(difference))\n",
    "        rms_diff = np.sqrt(np.mean(difference**2))\n",
    "        \n",
    "        print(f\"T[{i},{j}]        {max_diff:<15.6e} {rms_diff:<15.6e}\")\n",
    "\n",
    "print(\"=\" * 60)"
   ]
  },
  {
   "cell_type": "markdown",
   "metadata": {},
   "source": [
    "## Cross-Section Comparison\n",
    "\n",
    "Let's examine a 1D cross-section through the center to see the differences more clearly."
   ]
  },
  {
   "cell_type": "code",
   "execution_count": null,
   "metadata": {},
   "outputs": [],
   "source": [
    "# Plot cross-sections for key components\n",
    "fig, axes = plt.subplots(2, 2, figsize=(14, 10))\n",
    "fig.suptitle('Cross-Section Comparison: Fourth vs Second Order', fontsize=16)\n",
    "\n",
    "# Key components to examine\n",
    "components = [(0, 0), (0, 1), (1, 1), (2, 2)]\n",
    "y_center = int(world_center[2])\n",
    "\n",
    "for idx, (i, j) in enumerate(components):\n",
    "    ax = axes[idx // 2, idx % 2]\n",
    "    \n",
    "    data_fourth = energy_tensor_fourth.tensor[(i, j)][t_slice, :, y_center, z_slice]\n",
    "    data_second = energy_tensor_second.tensor[(i, j)][t_slice, :, y_center, z_slice]\n",
    "    \n",
    "    ax.plot(data_fourth, 'b-', label='4th Order', linewidth=2)\n",
    "    ax.plot(data_second, 'r--', label='2nd Order', linewidth=2)\n",
    "    ax.set_title(f'T[{i},{j}] Cross-Section')\n",
    "    ax.set_xlabel('x index')\n",
    "    ax.set_ylabel(f'T[{i},{j}]')\n",
    "    ax.legend()\n",
    "    ax.grid(True, alpha=0.3)\n",
    "\n",
    "plt.tight_layout()\n",
    "plt.show()"
   ]
  },
  {
   "cell_type": "markdown",
   "metadata": {},
   "source": [
    "## Deciding Between Fourth vs. Second Order\n",
    "\n",
    "**Recommendation:** For almost all applications, **4th order is preferred** over 2nd order because:\n",
    "- Higher accuracy for smooth metrics\n",
    "- Better convergence properties\n",
    "- Standard in most computational physics applications\n",
    "\n",
    "**When to use 2nd order:**\n",
    "- When analyzing sharp metric transitions (discontinuities or near-discontinuities)\n",
    "- As a diagnostic tool to check finite differencing errors\n",
    "- When computational resources are extremely limited (though this is rarely an issue for typical grid sizes)\n",
    "\n",
    "## Summary\n",
    "\n",
    "In this notebook, we:\n",
    "1. Created an Alcubierre warp drive metric\n",
    "2. Computed the stress-energy tensor using both 4th and 2nd order finite differencing\n",
    "3. Visualized all components of both energy tensors\n",
    "4. Compared the differences between the two methods\n",
    "5. Analyzed cross-sections to understand where the methods differ\n",
    "\n",
    "The `diff_order` parameter in `get_energy_tensor()` provides flexibility for different analysis needs, with 4th order being the recommended default for most applications."
   ]
  }
 ],
 "metadata": {
  "kernelspec": {
   "display_name": "Python 3",
   "language": "python",
   "name": "python3"
  },
  "language_info": {
   "codemirror_mode": {
    "name": "ipython",
    "version": 3
   },
   "file_extension": ".py",
   "mimetype": "text/x-python",
   "name": "python",
   "nbconvert_exporter": "python",
   "pygments_lexer": "ipython3",
   "version": "3.8.0"
  }
 },
 "nbformat": 4,
 "nbformat_minor": 4
}
