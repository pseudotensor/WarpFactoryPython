{
 "cells": [
  {
   "cell_type": "markdown",
   "metadata": {},
   "source": [
    "# Cartoon Methods\n",
    "\n",
    "In prior examples the grid sizes for metrics have had depth in X, Y, and Z. For metrics that contain symmetry, or if you are just interested in computing a 2D or 1D slice of a metric, then cartoon methods are for you."
   ]
  },
  {
   "cell_type": "markdown",
   "metadata": {},
   "source": [
    "## 2D Cartoon\n",
    "\n",
    "For 2D evaluations, one of the spatial slices has been set to the thickness of 5. 5 grid points is the minimum number of points needed to take accurate using forth order finite differencing. The computed energy tensor will only be accurate at the center grid point of the slice. (If using second order, the minimum thickness is 3)."
   ]
  },
  {
   "cell_type": "code",
   "execution_count": null,
   "metadata": {},
   "outputs": [],
   "source": [
    "# Alcubierre Cartoon Example\n",
    "import numpy as np\n",
    "import matplotlib.pyplot as plt\n",
    "from warpfactory.metrics.alcubierre import get_alcubierre_metric\n",
    "from warpfactory.solver.energy import get_energy_tensor"
   ]
  },
  {
   "cell_type": "code",
   "execution_count": null,
   "metadata": {},
   "outputs": [],
   "source": [
    "# Z thickness of 5 grid points\n",
    "grid_size = [1, 20, 20, 5]\n",
    "world_center = [(grid_size[i] + 1) / 2 for i in range(4)]\n",
    "velocity = 0.9\n",
    "R = 5\n",
    "sigma = 0.5\n",
    "\n",
    "# Create the metric\n",
    "metric = get_alcubierre_metric(\n",
    "    grid_size=grid_size,\n",
    "    world_center=world_center,\n",
    "    velocity=velocity,\n",
    "    radius=R,\n",
    "    sigma=sigma\n",
    ")\n",
    "\n",
    "# Compute energy tensor\n",
    "energy_tensor = get_energy_tensor(metric)\n",
    "\n",
    "print(f\"Metric: {metric.name}\")\n",
    "print(f\"Grid size: {grid_size}\")"
   ]
  },
  {
   "cell_type": "code",
   "execution_count": null,
   "metadata": {},
   "outputs": [],
   "source": [
    "# Plotting Metric\n",
    "fig, axes = plt.subplots(4, 4, figsize=(16, 16))\n",
    "fig.suptitle(f'{metric.name} Metric', fontsize=16)\n",
    "\n",
    "t_slice = 0\n",
    "z_slice = int(world_center[3])\n",
    "\n",
    "for i in range(4):\n",
    "    for j in range(4):\n",
    "        ax = axes[i, j]\n",
    "        data = metric.tensor[(i, j)][t_slice, :, :, z_slice]\n",
    "        \n",
    "        im = ax.imshow(data.T, origin='lower', cmap='viridis', aspect='auto')\n",
    "        ax.set_title(f'{i},{j}')\n",
    "        plt.colorbar(im, ax=ax)\n",
    "\n",
    "plt.tight_layout()\n",
    "plt.show()"
   ]
  },
  {
   "cell_type": "code",
   "execution_count": null,
   "metadata": {},
   "outputs": [],
   "source": [
    "# Plotting Energy Tensor\n",
    "fig, axes = plt.subplots(4, 4, figsize=(16, 16))\n",
    "fig.suptitle(f'{metric.name} Energy Tensor', fontsize=16)\n",
    "\n",
    "for i in range(4):\n",
    "    for j in range(4):\n",
    "        ax = axes[i, j]\n",
    "        data = energy_tensor.tensor[(i, j)][t_slice, :, :, z_slice]\n",
    "        \n",
    "        im = ax.imshow(data.T, origin='lower', cmap='RdBu_r', aspect='auto')\n",
    "        ax.set_title(f'{i},{j}')\n",
    "        plt.colorbar(im, ax=ax)\n",
    "\n",
    "plt.tight_layout()\n",
    "plt.show()"
   ]
  },
  {
   "cell_type": "markdown",
   "metadata": {},
   "source": [
    "### Large World Size\n",
    "\n",
    "This slicing of the world can be used to compute much larger grid sizes without the prohibitive scaling of 3D space.\n",
    "\n",
    "For example, here we evaluate a much larger 2D grid size than any example beforehand."
   ]
  },
  {
   "cell_type": "code",
   "execution_count": null,
   "metadata": {},
   "outputs": [],
   "source": [
    "# Alcubierre Large World Size Example\n",
    "# Z thickness of 5 grid points\n",
    "grid_size = [1, 200, 200, 5]\n",
    "world_center = [(grid_size[i] + 1) / 2 for i in range(4)]\n",
    "velocity = 0.9\n",
    "R = 50\n",
    "sigma = 0.05\n",
    "\n",
    "metric = get_alcubierre_metric(\n",
    "    grid_size=grid_size,\n",
    "    world_center=world_center,\n",
    "    velocity=velocity,\n",
    "    radius=R,\n",
    "    sigma=sigma\n",
    ")\n",
    "\n",
    "# Compute energy tensor\n",
    "energy_tensor = get_energy_tensor(metric)\n",
    "\n",
    "print(f\"Metric: {metric.name}\")\n",
    "print(f\"Grid size: {grid_size}\")"
   ]
  },
  {
   "cell_type": "code",
   "execution_count": null,
   "metadata": {},
   "outputs": [],
   "source": [
    "# Plotting Metric\n",
    "fig, axes = plt.subplots(4, 4, figsize=(16, 16))\n",
    "fig.suptitle(f'{metric.name} Metric', fontsize=16)\n",
    "\n",
    "t_slice = 0\n",
    "z_slice = int(world_center[3])\n",
    "\n",
    "for i in range(4):\n",
    "    for j in range(4):\n",
    "        ax = axes[i, j]\n",
    "        data = metric.tensor[(i, j)][t_slice, :, :, z_slice]\n",
    "        \n",
    "        im = ax.imshow(data.T, origin='lower', cmap='viridis', aspect='auto')\n",
    "        ax.set_title(f'{i},{j}')\n",
    "        plt.colorbar(im, ax=ax)\n",
    "\n",
    "plt.tight_layout()\n",
    "plt.show()"
   ]
  },
  {
   "cell_type": "code",
   "execution_count": null,
   "metadata": {},
   "outputs": [],
   "source": [
    "# Plotting Energy Tensor\n",
    "fig, axes = plt.subplots(4, 4, figsize=(16, 16))\n",
    "fig.suptitle(f'{metric.name} Energy Tensor', fontsize=16)\n",
    "\n",
    "for i in range(4):\n",
    "    for j in range(4):\n",
    "        ax = axes[i, j]\n",
    "        data = energy_tensor.tensor[(i, j)][t_slice, :, :, z_slice]\n",
    "        \n",
    "        im = ax.imshow(data.T, origin='lower', cmap='RdBu_r', aspect='auto')\n",
    "        ax.set_title(f'{i},{j}')\n",
    "        plt.colorbar(im, ax=ax)\n",
    "\n",
    "plt.tight_layout()\n",
    "plt.show()"
   ]
  },
  {
   "cell_type": "markdown",
   "metadata": {},
   "source": [
    "### High Resolution Grids\n",
    "\n",
    "In addition to larger world sizes, higher resolutions can also be run by changing the gridScaling property."
   ]
  },
  {
   "cell_type": "code",
   "execution_count": null,
   "metadata": {},
   "outputs": [],
   "source": [
    "# Alcubierre Hi Res Example\n",
    "# Z thickness of 5 grid points\n",
    "grid_size = [1, 200, 200, 5]\n",
    "# Define hi-res grid scaling of 10 grid points per meter\n",
    "grid_scaling = [1, 0.1, 0.1, 0.1]\n",
    "# World center is defined in real-world position, not grid points\n",
    "world_center = [(grid_size[i] + 1) / 2 * grid_scaling[i] for i in range(4)]\n",
    "velocity = 0.9\n",
    "R = 5\n",
    "sigma = 0.5\n",
    "\n",
    "metric = get_alcubierre_metric(\n",
    "    grid_size=grid_size,\n",
    "    world_center=world_center,\n",
    "    velocity=velocity,\n",
    "    radius=R,\n",
    "    sigma=sigma,\n",
    "    grid_scaling=grid_scaling\n",
    ")\n",
    "\n",
    "# Compute energy tensor\n",
    "energy_tensor = get_energy_tensor(metric)\n",
    "\n",
    "print(f\"Metric: {metric.name}\")\n",
    "print(f\"Grid size: {grid_size}\")\n",
    "print(f\"Grid scaling: {grid_scaling}\")"
   ]
  },
  {
   "cell_type": "code",
   "execution_count": null,
   "metadata": {},
   "outputs": [],
   "source": [
    "# Plotting Metric with scaled axes\n",
    "fig, axes = plt.subplots(4, 4, figsize=(16, 16))\n",
    "fig.suptitle(f'{metric.name} Metric', fontsize=16)\n",
    "\n",
    "t_slice = 0\n",
    "z_slice = int(world_center[3] / grid_scaling[3])\n",
    "\n",
    "# Create coordinate arrays for plotting\n",
    "x_coords = np.arange(1, grid_size[1] + 1) * grid_scaling[1]\n",
    "y_coords = np.arange(1, grid_size[2] + 1) * grid_scaling[2]\n",
    "\n",
    "for i in range(4):\n",
    "    for j in range(4):\n",
    "        ax = axes[i, j]\n",
    "        data = metric.tensor[(i, j)][t_slice, :, :, z_slice]\n",
    "        \n",
    "        im = ax.imshow(data.T, origin='lower', cmap='viridis', aspect='auto',\n",
    "                      extent=[x_coords[0], x_coords[-1], y_coords[0], y_coords[-1]])\n",
    "        ax.set_title(f'{i},{j}')\n",
    "        ax.set_xlabel('x (m)')\n",
    "        ax.set_ylabel('y (m)')\n",
    "        plt.colorbar(im, ax=ax)\n",
    "\n",
    "plt.tight_layout()\n",
    "plt.show()"
   ]
  },
  {
   "cell_type": "code",
   "execution_count": null,
   "metadata": {},
   "outputs": [],
   "source": [
    "# Plotting Energy Tensor with scaled axes\n",
    "fig, axes = plt.subplots(4, 4, figsize=(16, 16))\n",
    "fig.suptitle(f'{metric.name} Energy Tensor', fontsize=16)\n",
    "\n",
    "for i in range(4):\n",
    "    for j in range(4):\n",
    "        ax = axes[i, j]\n",
    "        data = energy_tensor.tensor[(i, j)][t_slice, :, :, z_slice]\n",
    "        \n",
    "        im = ax.imshow(data.T, origin='lower', cmap='RdBu_r', aspect='auto',\n",
    "                      extent=[x_coords[0], x_coords[-1], y_coords[0], y_coords[-1]])\n",
    "        ax.set_title(f'{i},{j}')\n",
    "        ax.set_xlabel('x (m)')\n",
    "        ax.set_ylabel('y (m)')\n",
    "        plt.colorbar(im, ax=ax)\n",
    "\n",
    "plt.tight_layout()\n",
    "plt.show()"
   ]
  },
  {
   "cell_type": "markdown",
   "metadata": {},
   "source": [
    "## 1D Cartoon\n",
    "\n",
    "Taking this down another dimension, we can just compute a 1D slice of the metric."
   ]
  },
  {
   "cell_type": "code",
   "execution_count": null,
   "metadata": {},
   "outputs": [],
   "source": [
    "# Alcubierre 1D Example\n",
    "# X and Z thickness of 5 grid points\n",
    "grid_size = [1, 5, 200, 5]\n",
    "world_center = [(grid_size[i] + 1) / 2 for i in range(4)]\n",
    "velocity = 0.9\n",
    "R = 50\n",
    "sigma = 0.05\n",
    "\n",
    "metric = get_alcubierre_metric(\n",
    "    grid_size=grid_size,\n",
    "    world_center=world_center,\n",
    "    velocity=velocity,\n",
    "    radius=R,\n",
    "    sigma=sigma\n",
    ")\n",
    "\n",
    "# Compute energy tensor\n",
    "energy_tensor = get_energy_tensor(metric)\n",
    "\n",
    "print(f\"Metric: {metric.name}\")\n",
    "print(f\"Grid size: {grid_size}\")"
   ]
  },
  {
   "cell_type": "code",
   "execution_count": null,
   "metadata": {},
   "outputs": [],
   "source": [
    "# Plotting Metric\n",
    "fig, axes = plt.subplots(4, 4, figsize=(16, 16))\n",
    "fig.suptitle(f'{metric.name} Metric (1D)', fontsize=16)\n",
    "\n",
    "t_slice = 0\n",
    "x_slice = int(world_center[1])\n",
    "z_slice = int(world_center[3])\n",
    "\n",
    "for i in range(4):\n",
    "    for j in range(4):\n",
    "        ax = axes[i, j]\n",
    "        # Extract 1D slice along y-axis\n",
    "        data = metric.tensor[(i, j)][t_slice, x_slice, :, z_slice]\n",
    "        \n",
    "        ax.plot(data)\n",
    "        ax.set_title(f'{i},{j}')\n",
    "        ax.set_xlabel('y index')\n",
    "        ax.grid(True, alpha=0.3)\n",
    "\n",
    "plt.tight_layout()\n",
    "plt.show()"
   ]
  },
  {
   "cell_type": "code",
   "execution_count": null,
   "metadata": {},
   "outputs": [],
   "source": [
    "# Plotting Energy Tensor\n",
    "fig, axes = plt.subplots(4, 4, figsize=(16, 16))\n",
    "fig.suptitle(f'{metric.name} Energy Tensor (1D)', fontsize=16)\n",
    "\n",
    "for i in range(4):\n",
    "    for j in range(4):\n",
    "        ax = axes[i, j]\n",
    "        # Extract 1D slice along y-axis\n",
    "        data = energy_tensor.tensor[(i, j)][t_slice, x_slice, :, z_slice]\n",
    "        \n",
    "        ax.plot(data)\n",
    "        ax.set_title(f'{i},{j}')\n",
    "        ax.set_xlabel('y index')\n",
    "        ax.grid(True, alpha=0.3)\n",
    "\n",
    "plt.tight_layout()\n",
    "plt.show()"
   ]
  },
  {
   "cell_type": "markdown",
   "metadata": {},
   "source": [
    "## Symmetry and Special Considerations\n",
    "\n",
    "If your metric has no derivatives in a certain direction, that direction's thickness can be set to a size of 1 or 2. We have already been doing this with the time direction of the comoving metrics since they do not evolve over time. For trailing dimensions, like the Z dimension, the thickness must be set to 2 instead of 1 to prevent NumPy from automatically squeezing the 4D array into a 3D array."
   ]
  },
  {
   "cell_type": "markdown",
   "metadata": {},
   "source": [
    "## Summary\n",
    "\n",
    "In this notebook, we demonstrated:\n",
    "\n",
    "1. **2D Cartoon Methods**: Computing metrics on a 2D slice with minimal thickness in the Z direction (5 grid points for 4th-order finite differencing)\n",
    "\n",
    "2. **Large World Sizes**: Leveraging cartoon methods to compute much larger grid sizes (200x200) without the computational cost of full 3D simulations\n",
    "\n",
    "3. **High Resolution Grids**: Using grid scaling to achieve higher spatial resolution (10 grid points per meter) while maintaining manageable computational requirements\n",
    "\n",
    "4. **1D Cartoon Methods**: Computing 1D slices for even faster calculations, useful for analyzing radial profiles or symmetric configurations\n",
    "\n",
    "5. **Symmetry Considerations**: Understanding when dimensions can be reduced to minimal thickness based on metric symmetries\n",
    "\n",
    "These cartoon methods are essential computational optimizations that allow exploration of warp drive metrics at scales and resolutions that would be prohibitively expensive in full 3D."
   ]
  }
 ],
 "metadata": {
  "kernelspec": {
   "display_name": "Python 3",
   "language": "python",
   "name": "python3"
  },
  "language_info": {
   "codemirror_mode": {
    "name": "ipython",
    "version": 3
   },
   "file_extension": ".py",
   "mimetype": "text/x-python",
   "name": "python",
   "nbconvert_exporter": "python",
   "pygments_lexer": "ipython3",
   "version": "3.8.0"
  }
 },
 "nbformat": 4,
 "nbformat_minor": 4
}
