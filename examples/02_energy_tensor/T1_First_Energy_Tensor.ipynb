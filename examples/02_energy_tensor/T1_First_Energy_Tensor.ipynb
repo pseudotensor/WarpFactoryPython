{
 "cells": [
  {
   "cell_type": "markdown",
   "metadata": {},
   "source": [
    "# Calculating The Stress-Energy Tensor For a Metric\n",
    "\n",
    "This notebook demonstrates how to compute the stress-energy tensor from a spacetime metric using WarpFactory. The stress-energy tensor describes the density and flux of energy and momentum in spacetime, and is computed from the metric via Einstein's field equations:\n",
    "\n",
    "$$T^{\\mu\\nu} = \\frac{c^4}{8\\pi G} G^{\\mu\\nu}$$\n",
    "\n",
    "where $G^{\\mu\\nu}$ is the Einstein tensor."
   ]
  },
  {
   "cell_type": "code",
   "execution_count": null,
   "metadata": {},
   "outputs": [],
   "source": [
    "import numpy as np\n",
    "import matplotlib.pyplot as plt\n",
    "from warpfactory.metrics.alcubierre import get_alcubierre_metric\n",
    "from warpfactory.solver.energy import get_energy_tensor"
   ]
  },
  {
   "cell_type": "markdown",
   "metadata": {},
   "source": [
    "## Create an Alcubierre Metric\n",
    "\n",
    "First, we'll create an Alcubierre warp drive metric with the following parameters:\n",
    "- Grid size: 1x20x20x20 (time, x, y, z)\n",
    "- Velocity: 0.9c (90% of the speed of light)\n",
    "- Bubble radius: R = 5\n",
    "- Thickness parameter: sigma = 0.5"
   ]
  },
  {
   "cell_type": "code",
   "execution_count": null,
   "metadata": {},
   "outputs": [],
   "source": [
    "# Set up grid parameters\n",
    "grid_size = [1, 20, 20, 20]\n",
    "world_center = [(grid_size[i] + 1) / 2 for i in range(4)]\n",
    "velocity = 0.9\n",
    "R = 5\n",
    "sigma = 0.5\n",
    "\n",
    "# Create the Alcubierre metric\n",
    "metric = get_alcubierre_metric(\n",
    "    grid_size=grid_size,\n",
    "    world_center=world_center,\n",
    "    velocity=velocity,\n",
    "    radius=R,\n",
    "    sigma=sigma\n",
    ")\n",
    "\n",
    "print(f\"Metric created: {metric.name}\")\n",
    "print(f\"Tensor type: {metric.tensor_type}\")\n",
    "print(f\"Index type: {metric.index}\")\n",
    "print(f\"Grid shape: {metric.tensor[(0,0)].shape}\")"
   ]
  },
  {
   "cell_type": "markdown",
   "metadata": {},
   "source": [
    "## Compute Energy Tensor\n",
    "\n",
    "The stress-energy-momentum tensor can be calculated simply by calling `get_energy_tensor(metric)`. This function:\n",
    "1. Computes the Christoffel symbols from the metric\n",
    "2. Calculates the Ricci tensor\n",
    "3. Computes the Ricci scalar\n",
    "4. Builds the Einstein tensor\n",
    "5. Converts to the stress-energy tensor using Einstein's field equations"
   ]
  },
  {
   "cell_type": "code",
   "execution_count": null,
   "metadata": {},
   "outputs": [],
   "source": [
    "# Compute energy tensor\n",
    "energy_tensor = get_energy_tensor(metric)\n",
    "\n",
    "print(f\"Energy tensor created: {energy_tensor.name}\")\n",
    "print(f\"Tensor type: {energy_tensor.tensor_type}\")\n",
    "print(f\"Index type: {energy_tensor.index}\")"
   ]
  },
  {
   "cell_type": "markdown",
   "metadata": {},
   "source": [
    "## Basic Plotting\n",
    "\n",
    "Let's visualize both the metric and energy tensor components in the z-plane through the center of the bubble."
   ]
  },
  {
   "cell_type": "code",
   "execution_count": null,
   "metadata": {},
   "outputs": [],
   "source": [
    "# Get the central z-slice\n",
    "z_slice = int(world_center[3])\n",
    "t_slice = 0\n",
    "\n",
    "# Plot metric components\n",
    "fig, axes = plt.subplots(4, 4, figsize=(16, 16))\n",
    "fig.suptitle(f'{metric.name} Metric Components', fontsize=16)\n",
    "\n",
    "for i in range(4):\n",
    "    for j in range(4):\n",
    "        ax = axes[i, j]\n",
    "        data = metric.tensor[(i, j)][t_slice, :, :, z_slice]\n",
    "        \n",
    "        # Plot\n",
    "        im = ax.imshow(data.T, origin='lower', cmap='RdBu_r', aspect='auto')\n",
    "        ax.set_title(f'g[{i},{j}]')\n",
    "        ax.set_xlabel('x')\n",
    "        ax.set_ylabel('y')\n",
    "        plt.colorbar(im, ax=ax)\n",
    "\n",
    "plt.tight_layout()\n",
    "plt.show()"
   ]
  },
  {
   "cell_type": "code",
   "execution_count": null,
   "metadata": {},
   "outputs": [],
   "source": [
    "# Plot energy tensor components\n",
    "fig, axes = plt.subplots(4, 4, figsize=(16, 16))\n",
    "fig.suptitle(f'{metric.name} Energy Tensor Components', fontsize=16)\n",
    "\n",
    "for i in range(4):\n",
    "    for j in range(4):\n",
    "        ax = axes[i, j]\n",
    "        data = energy_tensor.tensor[(i, j)][t_slice, :, :, z_slice]\n",
    "        \n",
    "        # Plot\n",
    "        im = ax.imshow(data.T, origin='lower', cmap='RdBu_r', aspect='auto')\n",
    "        ax.set_title(f'T[{i},{j}]')\n",
    "        ax.set_xlabel('x')\n",
    "        ax.set_ylabel('y')\n",
    "        plt.colorbar(im, ax=ax)\n",
    "\n",
    "plt.tight_layout()\n",
    "plt.show()"
   ]
  },
  {
   "cell_type": "markdown",
   "metadata": {},
   "source": [
    "## Examine Energy Tensor Properties\n",
    "\n",
    "Let's examine some key properties of the energy tensor:\n",
    "- Energy density: $T^{00}$ (the time-time component)\n",
    "- Momentum density: $T^{0i}$ (the time-space components)\n",
    "- Stress tensor: $T^{ij}$ (the space-space components)"
   ]
  },
  {
   "cell_type": "code",
   "execution_count": null,
   "metadata": {},
   "outputs": [],
   "source": [
    "# Extract key components\n",
    "energy_density = energy_tensor.tensor[(0, 0)][t_slice, :, :, z_slice]\n",
    "\n",
    "# Plot energy density with more detail\n",
    "fig, axes = plt.subplots(1, 2, figsize=(14, 5))\n",
    "\n",
    "# 2D plot\n",
    "ax = axes[0]\n",
    "im = ax.imshow(energy_density.T, origin='lower', cmap='RdBu_r', aspect='auto')\n",
    "ax.set_title(r'Energy Density $T^{00}$')\n",
    "ax.set_xlabel('x')\n",
    "ax.set_ylabel('y')\n",
    "plt.colorbar(im, ax=ax, label='Energy Density')\n",
    "\n",
    "# Cross-section through center\n",
    "ax = axes[1]\n",
    "y_center = int(world_center[2])\n",
    "ax.plot(energy_density[:, y_center])\n",
    "ax.set_title(r'Energy Density Cross-Section at y=center')\n",
    "ax.set_xlabel('x index')\n",
    "ax.set_ylabel(r'$T^{00}$')\n",
    "ax.grid(True, alpha=0.3)\n",
    "\n",
    "plt.tight_layout()\n",
    "plt.show()\n",
    "\n",
    "# Print statistics\n",
    "print(f\"Energy density statistics:\")\n",
    "print(f\"  Min: {np.min(energy_density):.6e}\")\n",
    "print(f\"  Max: {np.max(energy_density):.6e}\")\n",
    "print(f\"  Mean: {np.mean(energy_density):.6e}\")\n",
    "print(f\"  Std: {np.std(energy_density):.6e}\")"
   ]
  },
  {
   "cell_type": "code",
   "execution_count": null,
   "metadata": {},
   "outputs": [],
   "source": [
    "# Examine momentum density components\n",
    "fig, axes = plt.subplots(1, 3, figsize=(18, 5))\n",
    "fig.suptitle('Momentum Density Components', fontsize=16)\n",
    "\n",
    "momentum_labels = ['x', 'y', 'z']\n",
    "for idx, i in enumerate([1, 2, 3]):\n",
    "    ax = axes[idx]\n",
    "    data = energy_tensor.tensor[(0, i)][t_slice, :, :, z_slice]\n",
    "    \n",
    "    im = ax.imshow(data.T, origin='lower', cmap='RdBu_r', aspect='auto')\n",
    "    ax.set_title(rf'$T^{{0{i}}}$ ({momentum_labels[idx]}-momentum)')\n",
    "    ax.set_xlabel('x')\n",
    "    ax.set_ylabel('y')\n",
    "    plt.colorbar(im, ax=ax)\n",
    "    \n",
    "    print(f\"T^{{0{i}}} statistics: min={np.min(data):.6e}, max={np.max(data):.6e}\")\n",
    "\n",
    "plt.tight_layout()\n",
    "plt.show()"
   ]
  },
  {
   "cell_type": "markdown",
   "metadata": {},
   "source": [
    "## Summary\n",
    "\n",
    "In this notebook, we:\n",
    "1. Created an Alcubierre warp drive metric with specific parameters\n",
    "2. Computed the stress-energy tensor using `get_energy_tensor()`\n",
    "3. Visualized all 16 components of both the metric and energy tensor\n",
    "4. Examined key physical properties including energy density and momentum density\n",
    "\n",
    "The energy tensor reveals the energy and momentum requirements for maintaining the warp drive spacetime geometry. Note that negative energy densities (exotic matter) are required for the Alcubierre drive, which you can see in the energy density plots."
   ]
  }
 ],
 "metadata": {
  "kernelspec": {
   "display_name": "Python 3",
   "language": "python",
   "name": "python3"
  },
  "language_info": {
   "codemirror_mode": {
    "name": "ipython",
    "version": 3
   },
   "file_extension": ".py",
   "mimetype": "text/x-python",
   "name": "python",
   "nbconvert_exporter": "python",
   "pygments_lexer": "ipython3",
   "version": "3.8.0"
  }
 },
 "nbformat": 4,
 "nbformat_minor": 4
}
