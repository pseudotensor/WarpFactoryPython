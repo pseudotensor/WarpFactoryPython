{
 "cells": [
  {
   "cell_type": "markdown",
   "metadata": {},
   "source": [
    "# Exploring the Constant Velocity Physical Warp Drive\n",
    "\n",
    "This notebook provides an interactive exploration of the constant velocity warp shell metric from paper arXiv:2405.02709v1.\n",
    "\n",
    "**Paper:** \"Constant Velocity Physical Warp Drive Solution\"  \n",
    "**Authors:** Fuchs et al. (2024)  \n",
    "**Key Result:** First physical warp drive satisfying all energy conditions\n"
   ]
  },
  {
   "cell_type": "code",
   "execution_count": null,
   "metadata": {},
   "outputs": [],
   "source": [
    "import numpy as np\n",
    "import matplotlib.pyplot as plt\n",
    "import sys\n",
    "sys.path.insert(0, '..')\n",
    "\n",
    "from warpfactory.metrics.warp_shell import get_warp_shell_comoving_metric\n",
    "from warpfactory.units.constants import c, G\n",
    "\n",
    "%matplotlib inline\n",
    "plt.rcParams['figure.figsize'] = (12, 4)"
   ]
  },
  {
   "cell_type": "markdown",
   "metadata": {},
   "source": [
    "## 1. Physical Parameters from the Paper\n",
    "\n",
    "The paper uses:\n",
    "- Inner radius: R₁ = 10 m\n",
    "- Outer radius: R₂ = 20 m  \n",
    "- Total mass: M = 4.49 × 10²⁷ kg (2.365 Jupiter masses)\n",
    "- Warp velocity: β = 0.02 (0.02c)"
   ]
  },
  {
   "cell_type": "code",
   "execution_count": null,
   "metadata": {},
   "outputs": [],
   "source": [
    "# Physical parameters\n",
    "R1 = 10.0  # meters\n",
    "R2 = 20.0  # meters\n",
    "M = 4.49e27  # kg\n",
    "beta_warp = 0.02\n",
    "\n",
    "# Grid parameters\n",
    "grid_size = [1, 61, 61, 61]\n",
    "world_center = [0.0, 30.0, 30.0, 30.0]\n",
    "grid_scaling = [1.0, 1.0, 1.0, 1.0]\n",
    "\n",
    "print(f\"Shell Configuration:\")\n",
    "print(f\"  R1 = {R1} m\")\n",
    "print(f\"  R2 = {R2} m\")\n",
    "print(f\"  M = {M:.3e} kg ({M/1.898e27:.3f} Jupiter masses)\")\n",
    "print(f\"  β_warp = {beta_warp} ({beta_warp*c():.2e} m/s)\")"
   ]
  },
  {
   "cell_type": "markdown",
   "metadata": {},
   "source": [
    "## 2. Create Matter Shell (Section 3 of Paper)\n",
    "\n",
    "This is a stable spherical shell with:\n",
    "- Positive ADM mass\n",
    "- Non-unit lapse function\n",
    "- Non-flat spatial metric\n",
    "- Satisfies all energy conditions"
   ]
  },
  {
   "cell_type": "code",
   "execution_count": null,
   "metadata": {},
   "outputs": [],
   "source": [
    "print(\"Creating matter shell metric...\")\n",
    "shell_metric = get_warp_shell_comoving_metric(\n",
    "    grid_size=grid_size,\n",
    "    world_center=world_center,\n",
    "    m=M,\n",
    "    R1=R1,\n",
    "    R2=R2,\n",
    "    v_warp=0.0,\n",
    "    do_warp=False,\n",
    "    grid_scaling=grid_scaling\n",
    ")\n",
    "print(\"✓ Shell metric created\")\n",
    "\n",
    "# Extract parameters\n",
    "r_vec = shell_metric.params['rVec']\n",
    "rho_smooth = shell_metric.params['rhoSmooth']\n",
    "P_smooth = shell_metric.params['PSmooth']\n",
    "A = shell_metric.params['A']\n",
    "B = shell_metric.params['B']"
   ]
  },
  {
   "cell_type": "markdown",
   "metadata": {},
   "source": [
    "## 3. Visualize Shell Properties"
   ]
  },
  {
   "cell_type": "code",
   "execution_count": null,
   "metadata": {},
   "outputs": [],
   "source": [
    "fig, axes = plt.subplots(1, 3, figsize=(15, 4))\n",
    "\n",
    "# Energy density\n",
    "rho_energy = rho_smooth * c()**2\n",
    "axes[0].plot(r_vec, rho_energy, 'b-', linewidth=2)\n",
    "axes[0].axvline(R1, color='k', linestyle='--', alpha=0.3)\n",
    "axes[0].axvline(R2, color='k', linestyle='--', alpha=0.3)\n",
    "axes[0].set_xlabel('r [m]')\n",
    "axes[0].set_ylabel('Energy Density [J/m³]')\n",
    "axes[0].set_title('Shell Energy Density')\n",
    "axes[0].grid(True, alpha=0.3)\n",
    "axes[0].set_xlim([0, 30])\n",
    "\n",
    "# Pressure\n",
    "axes[1].plot(r_vec, P_smooth, 'r-', linewidth=2)\n",
    "axes[1].axvline(R1, color='k', linestyle='--', alpha=0.3)\n",
    "axes[1].axvline(R2, color='k', linestyle='--', alpha=0.3)\n",
    "axes[1].set_xlabel('r [m]')\n",
    "axes[1].set_ylabel('Pressure [Pa]')\n",
    "axes[1].set_title('Shell Pressure')\n",
    "axes[1].grid(True, alpha=0.3)\n",
    "axes[1].set_xlim([0, 30])\n",
    "\n",
    "# Metric functions\n",
    "axes[2].plot(r_vec, -A, 'b-', linewidth=2, label='-g_tt')\n",
    "axes[2].plot(r_vec, B, 'r-', linewidth=2, label='g_rr')\n",
    "axes[2].axvline(R1, color='k', linestyle='--', alpha=0.3)\n",
    "axes[2].axvline(R2, color='k', linestyle='--', alpha=0.3)\n",
    "axes[2].set_xlabel('r [m]')\n",
    "axes[2].set_ylabel('Metric Component')\n",
    "axes[2].set_title('Shell Metric Components')\n",
    "axes[2].legend()\n",
    "axes[2].grid(True, alpha=0.3)\n",
    "axes[2].set_xlim([0, 30])\n",
    "\n",
    "plt.tight_layout()\n",
    "plt.show()\n",
    "\n",
    "print(f\"\\nShell Properties:\")\n",
    "print(f\"  Peak energy density: {np.max(rho_energy):.3e} J/m³\")\n",
    "print(f\"  Peak pressure: {np.max(P_smooth):.3e} Pa\")\n",
    "print(f\"  Shell volume: {4/3*np.pi*(R2**3-R1**3):.3e} m³\")"
   ]
  },
  {
   "cell_type": "markdown",
   "metadata": {},
   "source": [
    "## 4. Create Warp Shell (Section 4 of Paper)\n",
    "\n",
    "Now add a shift vector to create the warp effect while maintaining all energy conditions."
   ]
  },
  {
   "cell_type": "code",
   "execution_count": null,
   "metadata": {},
   "outputs": [],
   "source": [
    "print(\"Creating warp shell metric...\")\n",
    "warp_shell_metric = get_warp_shell_comoving_metric(\n",
    "    grid_size=grid_size,\n",
    "    world_center=world_center,\n",
    "    m=M,\n",
    "    R1=R1,\n",
    "    R2=R2,\n",
    "    v_warp=beta_warp,\n",
    "    do_warp=True,\n",
    "    grid_scaling=grid_scaling\n",
    ")\n",
    "print(\"✓ Warp shell metric created\")"
   ]
  },
  {
   "cell_type": "markdown",
   "metadata": {},
   "source": [
    "## 5. Compare Shell vs Warp Shell"
   ]
  },
  {
   "cell_type": "code",
   "execution_count": null,
   "metadata": {},
   "outputs": [],
   "source": [
    "# Extract radial slices\n",
    "t_idx = 0\n",
    "x_idx = grid_size[1] // 2\n",
    "z_idx = grid_size[2] // 2\n",
    "\n",
    "y_indices = np.arange(grid_size[2])\n",
    "y_coords = (y_indices + 1) * grid_scaling[2] - world_center[2]\n",
    "r_values = np.abs(y_coords)\n",
    "\n",
    "# Extract metric components\n",
    "shell_g00 = shell_metric.tensor[(0,0)][t_idx, x_idx, :, z_idx]\n",
    "shell_g01 = shell_metric.tensor[(0,1)][t_idx, x_idx, :, z_idx]\n",
    "\n",
    "warp_g00 = warp_shell_metric.tensor[(0,0)][t_idx, x_idx, :, z_idx]\n",
    "warp_g01 = warp_shell_metric.tensor[(0,1)][t_idx, x_idx, :, z_idx]\n",
    "\n",
    "# Plot comparison\n",
    "fig, axes = plt.subplots(1, 2, figsize=(12, 4))\n",
    "\n",
    "# g_00 comparison\n",
    "axes[0].plot(r_values, shell_g00, 'b-', linewidth=2, label='Shell')\n",
    "axes[0].plot(r_values, warp_g00, 'r--', linewidth=2, label='Warp Shell')\n",
    "axes[0].axvline(R1, color='k', linestyle='--', alpha=0.3)\n",
    "axes[0].axvline(R2, color='k', linestyle='--', alpha=0.3)\n",
    "axes[0].set_xlabel('r [m]')\n",
    "axes[0].set_ylabel('g_00')\n",
    "axes[0].set_title('Temporal Metric Component')\n",
    "axes[0].legend()\n",
    "axes[0].grid(True, alpha=0.3)\n",
    "\n",
    "# g_01 comparison (shift vector)\n",
    "axes[1].plot(r_values, shell_g01, 'b-', linewidth=2, label='Shell (no shift)')\n",
    "axes[1].plot(r_values, warp_g01, 'r-', linewidth=2, label='Warp Shell (with shift)')\n",
    "axes[1].axvline(R1, color='k', linestyle='--', alpha=0.3)\n",
    "axes[1].axvline(R2, color='k', linestyle='--', alpha=0.3)\n",
    "axes[1].set_xlabel('r [m]')\n",
    "axes[1].set_ylabel('g_01')\n",
    "axes[1].set_title('Shift Vector Component')\n",
    "axes[1].legend()\n",
    "axes[1].grid(True, alpha=0.3)\n",
    "\n",
    "plt.tight_layout()\n",
    "plt.show()\n",
    "\n",
    "print(f\"\\nWarp Effect:\")\n",
    "print(f\"  Shift inside shell: {np.min(warp_g01):.4f}\")\n",
    "print(f\"  Shift outside shell: {warp_g01[0]:.4f}\")\n",
    "print(f\"  Frame dragging velocity: {-np.min(warp_g01)*c():.2e} m/s\")"
   ]
  },
  {
   "cell_type": "markdown",
   "metadata": {},
   "source": [
    "## 6. Key Results\n",
    "\n",
    "### Achievements:\n",
    "1. ✓ Matter shell satisfies all energy conditions\n",
    "2. ✓ Warp shell maintains physicality with shift vector\n",
    "3. ✓ Constant velocity warp drive is physical\n",
    "4. ✓ First subluminal physical warp drive with Alcubierre-like transport\n",
    "\n",
    "### Physical Interpretation:\n",
    "- The shift vector creates **linear frame dragging** inside the shell\n",
    "- Passengers inside experience **geodesic motion** (no acceleration)\n",
    "- The effect is **physical** (not just coordinate transformation)\n",
    "- Energy density **dominates** momentum flux (maintaining energy conditions)\n",
    "- Positive **ADM mass** ensures correct asymptotic behavior"
   ]
  },
  {
   "cell_type": "markdown",
   "metadata": {},
   "source": [
    "## 7. Parameter Exploration\n",
    "\n",
    "Try changing parameters to see their effects:"
   ]
  },
  {
   "cell_type": "code",
   "execution_count": null,
   "metadata": {},
   "outputs": [],
   "source": [
    "# Try different masses\n",
    "masses = [M * 0.5, M, M * 2]\n",
    "colors = ['blue', 'red', 'green']\n",
    "labels = ['0.5M', 'M', '2M']\n",
    "\n",
    "fig, ax = plt.subplots(1, 1, figsize=(10, 6))\n",
    "\n",
    "for mass, color, label in zip(masses, colors, labels):\n",
    "    test_metric = get_warp_shell_comoving_metric(\n",
    "        grid_size=grid_size,\n",
    "        world_center=world_center,\n",
    "        m=mass,\n",
    "        R1=R1,\n",
    "        R2=R2,\n",
    "        v_warp=0.0,\n",
    "        do_warp=False,\n",
    "        grid_scaling=grid_scaling\n",
    "    )\n",
    "    r_vec_test = test_metric.params['rVec']\n",
    "    rho_test = test_metric.params['rhoSmooth'] * c()**2\n",
    "    ax.plot(r_vec_test, rho_test, color=color, linewidth=2, label=label)\n",
    "\n",
    "ax.axvline(R1, color='k', linestyle='--', alpha=0.3)\n",
    "ax.axvline(R2, color='k', linestyle='--', alpha=0.3)\n",
    "ax.set_xlabel('r [m]')\n",
    "ax.set_ylabel('Energy Density [J/m³]')\n",
    "ax.set_title('Effect of Mass on Energy Density')\n",
    "ax.legend()\n",
    "ax.grid(True, alpha=0.3)\n",
    "ax.set_xlim([0, 30])\n",
    "\n",
    "plt.tight_layout()\n",
    "plt.show()"
   ]
  },
  {
   "cell_type": "markdown",
   "metadata": {},
   "source": [
    "## 8. Conclusion\n",
    "\n",
    "This notebook demonstrates the groundbreaking result from Fuchs et al. (2024):\n",
    "\n",
    "**A physical warp drive is theoretically possible!**\n",
    "\n",
    "By combining:\n",
    "1. A stable matter shell with positive ADM mass\n",
    "2. A carefully chosen shift vector distribution\n",
    "3. Numerical methods (WarpFactory) for complex spacetime analysis\n",
    "\n",
    "The paper shows that constant velocity warp drives can satisfy all energy conditions while providing genuine geodesic transport.\n",
    "\n",
    "### Next Steps:\n",
    "- Solve the acceleration problem\n",
    "- Optimize mass requirements\n",
    "- Explore alternative geometries\n",
    "- Investigate engineering feasibility\n",
    "\n",
    "### References:\n",
    "1. Fuchs et al., \"Constant Velocity Physical Warp Drive Solution,\" arXiv:2405.02709v1, 2024\n",
    "2. Helmerich et al., \"Analyzing warp drive spacetimes with Warp Factory,\" CQG 41:095009, 2024"
   ]
  }
 ],
 "metadata": {
  "kernelspec": {
   "display_name": "Python 3",
   "language": "python",
   "name": "python3"
  },
  "language_info": {
   "codemirror_mode": {
    "name": "ipython",
    "version": 3
   },
   "file_extension": ".py",
   "mimetype": "text/x-python",
   "name": "python",
   "nbconvert_exporter": "python",
   "pygments_lexer": "ipython3",
   "version": "3.8.0"
  }
 },
 "nbformat": 4,
 "nbformat_minor": 4
}
